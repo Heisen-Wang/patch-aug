{
 "cells": [
  {
   "cell_type": "code",
   "execution_count": 32,
   "id": "2ce80261",
   "metadata": {},
   "outputs": [],
   "source": [
    "import matplotlib.pyplot as plt\n",
    "import numpy as np\n",
    "from PIL import Image"
   ]
  },
  {
   "cell_type": "code",
   "execution_count": 2,
   "id": "7c6b4a97",
   "metadata": {},
   "outputs": [],
   "source": [
    "def unpickle(file):\n",
    "    import pickle\n",
    "    with open(file, 'rb') as fo:\n",
    "        dict = pickle.load(fo, encoding='latin1')\n",
    "    return dict"
   ]
  },
  {
   "cell_type": "code",
   "execution_count": 3,
   "id": "2813e7d3",
   "metadata": {},
   "outputs": [],
   "source": [
    "file = \"/Users/Heisen/Work/project/datasets/cifar10/train/cifar-10-batches-py/data_batch_1\"\n",
    "data_batch_1 = unpickle(file)"
   ]
  },
  {
   "cell_type": "code",
   "execution_count": 4,
   "id": "b6178402",
   "metadata": {},
   "outputs": [
    {
     "name": "stdout",
     "output_type": "stream",
     "text": [
      "(32, 32, 3)\n"
     ]
    }
   ],
   "source": [
    "image = data_batch_1['data'][0]\n",
    "image = image.reshape(3,32,32)\n",
    "image = image.transpose(1,2,0)\n",
    "print(image.shape)"
   ]
  },
  {
   "cell_type": "code",
   "execution_count": 5,
   "id": "df6d5e72",
   "metadata": {},
   "outputs": [
    {
     "data": {
      "text/plain": [
       "<matplotlib.image.AxesImage at 0x7fd0a32422b0>"
      ]
     },
     "execution_count": 5,
     "metadata": {},
     "output_type": "execute_result"
    },
    {
     "data": {
      "image/png": "[encoded data removed]",
      "text/plain": [
       "<Figure size 432x288 with 1 Axes>"
      ]
     },
     "metadata": {
      "needs_background": "light"
     },
     "output_type": "display_data"
    }
   ],
   "source": [
    "plt.imshow(image)"
   ]
  },
  {
   "cell_type": "code",
   "execution_count": 6,
   "id": "828111b2",
   "metadata": {},
   "outputs": [],
   "source": [
    "im = Image.fromarray(image)\n",
    "im.save(\"test_image.jpeg\")"
   ]
  },
  {
   "cell_type": "code",
   "execution_count": 7,
   "id": "1260ab8b",
   "metadata": {},
   "outputs": [
    {
     "data": {
      "text/plain": [
       "16"
      ]
     },
     "execution_count": 7,
     "metadata": {},
     "output_type": "execute_result"
    }
   ],
   "source": [
    "32//2"
   ]
  },
  {
   "cell_type": "code",
   "execution_count": 34,
   "id": "4e31681e",
   "metadata": {},
   "outputs": [],
   "source": [
    "# def compute_ranges(tensor_dimensions, section_dimensions):\n",
    "#         \"\"\"\n",
    "#         Compute all the ranges for the dimension: (first dimension, second dimension, ...)\n",
    "#         ranges.\n",
    "\n",
    "#         \"\"\"\n",
    "\n",
    "#         # List of lists: Each element is a list of ranges for the dimension\n",
    "#         #                that corresponds to the index.\n",
    "#         ranges = [[]] * len(section_dimensions)\n",
    "        \n",
    "\n",
    "#         # For each dimension,\n",
    "#         for i in range(len(section_dimensions)):\n",
    "#             # Calculate ranges\n",
    "#             ranges[i] = compute_size_ranges(\n",
    "#                 total_size= tensor_dimensions[i],\n",
    "#                 section_size= section_dimensions[i]\n",
    "#             )\n",
    "\n",
    "#         return ranges\n",
    "def compute_ranges(tensor_dimensions, section_dimensions):\n",
    "    \n",
    "    size_of_ranges = len(section_dimensions)*len(section_dimensions)\n",
    "    ranges = []\n",
    "    size_ranges = compute_size_ranges(tensor_dimensions[0], section_dimensions[0])\n",
    "    \n",
    "    for i in range(len(section_dimensions)):\n",
    "        for j in range(len(section_dimensions)):\n",
    "            ranges.append([size_ranges[i],size_ranges[j]])\n",
    "    return ranges\n",
    "        \n",
    "    \n",
    "\n",
    "def compute_size_ranges(total_size, section_size):\n",
    "        \"\"\"\n",
    "        Create a list of all slice objects; one object per section\n",
    "\n",
    "        \"\"\"\n",
    "\n",
    "        return [\n",
    "            compute_size_range(i, total_size, section_size)\n",
    "            for i in range(0, total_size, section_size)\n",
    "        ]\n",
    "    \n",
    "def compute_size_range(i, total_size, section_size):\n",
    "        \"\"\"\n",
    "        Create a slice object given the parameters. The slice object\n",
    "        represents a range of indices.\n",
    "\n",
    "        \"\"\"\n",
    "\n",
    "        # Range end: Taking the minimum of the two values ensures\n",
    "        # that the end never exceeds 'total_size'. If the range\n",
    "        # does exceed 'total_size', it is slided back to make sure\n",
    "        # it fits. This causes overlap with a previous range.\n",
    "        end = min(total_size, i + section_size)\n",
    "\n",
    "        # Range start. Automatically adjusted to slide the range\n",
    "        # backwards if necessary.\n",
    "        start = end - section_size\n",
    "\n",
    "        return slice(start, end)"
   ]
  },
  {
   "cell_type": "code",
   "execution_count": 35,
   "id": "48ee6669",
   "metadata": {},
   "outputs": [
    {
     "data": {
      "text/plain": [
       "[[slice(0, 16, None), slice(0, 16, None)],\n",
       " [slice(0, 16, None), slice(16, 32, None)],\n",
       " [slice(16, 32, None), slice(0, 16, None)],\n",
       " [slice(16, 32, None), slice(16, 32, None)]]"
      ]
     },
     "execution_count": 35,
     "metadata": {},
     "output_type": "execute_result"
    }
   ],
   "source": [
    "slices = compute_ranges((32,32),(16,16))\n",
    "slices"
   ]
  },
  {
   "cell_type": "code",
   "execution_count": 43,
   "id": "efd4a6d6",
   "metadata": {},
   "outputs": [
    {
     "ename": "IndexError",
     "evalue": "list index out of range",
     "output_type": "error",
     "traceback": [
      "\u001b[0;31m---------------------------------------------------------------------------\u001b[0m",
      "\u001b[0;31mIndexError\u001b[0m                                Traceback (most recent call last)",
      "\u001b[0;32m<ipython-input-43-a2588dea2939>\u001b[0m in \u001b[0;36m<module>\u001b[0;34m\u001b[0m\n\u001b[1;32m      1\u001b[0m \u001b[0msections\u001b[0m \u001b[0;34m=\u001b[0m \u001b[0;34m[\u001b[0m\u001b[0;34m]\u001b[0m\u001b[0;34m\u001b[0m\u001b[0;34m\u001b[0m\u001b[0m\n\u001b[1;32m      2\u001b[0m \u001b[0;32mfor\u001b[0m \u001b[0mi\u001b[0m \u001b[0;32min\u001b[0m \u001b[0mrange\u001b[0m\u001b[0;34m(\u001b[0m\u001b[0mlen\u001b[0m\u001b[0;34m(\u001b[0m\u001b[0mslices\u001b[0m\u001b[0;34m)\u001b[0m\u001b[0;34m)\u001b[0m\u001b[0;34m:\u001b[0m\u001b[0;34m\u001b[0m\u001b[0;34m\u001b[0m\u001b[0m\n\u001b[0;32m----> 3\u001b[0;31m         \u001b[0msections\u001b[0m \u001b[0;34m=\u001b[0m \u001b[0mimage\u001b[0m\u001b[0;34m[\u001b[0m\u001b[0mslices\u001b[0m\u001b[0;34m[\u001b[0m\u001b[0mi\u001b[0m\u001b[0;34m]\u001b[0m\u001b[0;34m[\u001b[0m\u001b[0mj\u001b[0m\u001b[0;34m]\u001b[0m\u001b[0;34m]\u001b[0m\u001b[0;34m\u001b[0m\u001b[0;34m\u001b[0m\u001b[0m\n\u001b[0m",
      "\u001b[0;31mIndexError\u001b[0m: list index out of range"
     ]
    }
   ],
   "source": [
    "sections = []\n",
    "for i in range(len(slices)):\n",
    "    sections.append(image[slices[i][j]])\n"
   ]
  },
  {
   "cell_type": "code",
   "execution_count": 41,
   "id": "5fa25299",
   "metadata": {},
   "outputs": [
    {
     "name": "stderr",
     "output_type": "stream",
     "text": [
      "/Users/Heisen/opt/anaconda3/envs/cv/lib/python3.6/site-packages/ipykernel_launcher.py:1: FutureWarning: Using a non-tuple sequence for multidimensional indexing is deprecated; use `arr[tuple(seq)]` instead of `arr[seq]`. In the future this will be interpreted as an array index, `arr[np.array(seq)]`, which will result either in an error or a different result.\n",
      "  \"\"\"Entry point for launching an IPython kernel.\n"
     ]
    },
    {
     "data": {
      "text/plain": [
       "<matplotlib.image.AxesImage at 0x7fd0a498eb38>"
      ]
     },
     "execution_count": 41,
     "metadata": {},
     "output_type": "execute_result"
    },
    {
     "data": {
      "image/png": "[encoded data removed]",
      "text/plain": [
       "<Figure size 432x288 with 1 Axes>"
      ]
     },
     "metadata": {
      "needs_background": "light"
     },
     "output_type": "display_data"
    }
   ],
   "source": [
    "plt.imshow(image[slices[3]])"
   ]
  },
  {
   "cell_type": "code",
   "execution_count": null,
   "id": "0d9f0fe5",
   "metadata": {},
   "outputs": [],
   "source": [
    "def stitch(image, sections, section_dims):\n",
    "    # Image dimensions\n",
    "    image_dimensions = (image.shape[0], image.shape[1])\n",
    "\n",
    "    # Initialize stitched image\n",
    "    stitched_mask = np.ones(image_dimensions, dtype=np.uint8)\n",
    "\n",
    "    # Slices generator\n",
    "    slices_gen = SectionGeneratorMaker([*image_dimensions], section_dims).generator()\n",
    "\n",
    "    # For each section,\n",
    "    for i in range(len(sections)):\n",
    "        # Get the next slice\n",
    "        current_slice = next(slices_gen)\n",
    "\n",
    "        # Add the current section to the stitched image\n",
    "        stitched_mask[current_slice] = sections[i]\n",
    "\n",
    "    return stitched_mask"
   ]
  },
  {
   "cell_type": "code",
   "execution_count": null,
   "id": "bf623c4d",
   "metadata": {},
   "outputs": [],
   "source": [
    "sections = "
   ]
  }
 ],
 "metadata": {
  "kernelspec": {
   "display_name": "Python 3",
   "language": "python",
   "name": "python3"
  },
  "language_info": {
   "codemirror_mode": {
    "name": "ipython",
    "version": 3
   },
   "file_extension": ".py",
   "mimetype": "text/x-python",
   "name": "python",
   "nbconvert_exporter": "python",
   "pygments_lexer": "ipython3",
   "version": "3.6.10"
  }
 },
 "nbformat": 4,
 "nbformat_minor": 5
}
